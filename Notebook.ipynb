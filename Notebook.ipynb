{
 "cells": [
  {
   "cell_type": "markdown",
   "metadata": {},
   "source": [
    "# Applied Data Science Capstone"
   ]
  },
  {
   "cell_type": "markdown",
   "metadata": {},
   "source": [
    "# Introduction\n",
    "\n",
    "Car accidents can occur all the time, however there are some conditions that may cause probabilities of having an accident arise due multiple variables.\n",
    "\n",
    "This report has a purpose to develop a model for Seattle government to predict the probabilities of having a car accident and severity, based on different conditions such as weather or road conditions.\n",
    "\n",
    "The information was provided by Seattle Police Department from 2004 to 2020."
   ]
  },
  {
   "cell_type": "markdown",
   "metadata": {},
   "source": [
    "# Business Problem\n",
    "\n",
    "Identify the conditions that can cause future car accidents in order to alarm the people with anticipation to be aware and drive more carefully.\n",
    "\n",
    "The avoidance of car accidents can result in many benefits:\n",
    "- Save lives; or \n",
    "- Reduce costs in damage infrastructure; or\n",
    "- Reduce cost from police and paramedics to attend each accident"
   ]
  },
  {
   "cell_type": "markdown",
   "metadata": {},
   "source": [
    "# Data\n",
    "The information comes from Seattle Police Department and recorded by Traffic Records and include Collisions at intersections or mid-blocks of a segment. The period information is from 2004 to May 2020.\n",
    "\n",
    "The information is organized in a CSV file with 37 attributes and originally 194673 rows, the information is labeled and unbalanced. Additionally, a document with the description of each column were given.\n",
    "\n",
    "Due to the labelled information, we can know the result of each record. We have selected the column SEVERITYCODE as Dependent variable. The possible values are:\n",
    "\n",
    "- 1 – Property Damage Only Collision; and\n",
    "- 2 – Injury Collision"
   ]
  },
  {
   "cell_type": "code",
   "execution_count": 1,
   "metadata": {},
   "outputs": [
    {
     "data": {
      "text/html": [
       "<div>\n",
       "<style scoped>\n",
       "    .dataframe tbody tr th:only-of-type {\n",
       "        vertical-align: middle;\n",
       "    }\n",
       "\n",
       "    .dataframe tbody tr th {\n",
       "        vertical-align: top;\n",
       "    }\n",
       "\n",
       "    .dataframe thead th {\n",
       "        text-align: right;\n",
       "    }\n",
       "</style>\n",
       "<table border=\"1\" class=\"dataframe\">\n",
       "  <thead>\n",
       "    <tr style=\"text-align: right;\">\n",
       "      <th></th>\n",
       "      <th>SEVERITYCODE</th>\n",
       "      <th>X</th>\n",
       "      <th>Y</th>\n",
       "      <th>OBJECTID</th>\n",
       "      <th>INCKEY</th>\n",
       "      <th>COLDETKEY</th>\n",
       "      <th>REPORTNO</th>\n",
       "      <th>STATUS</th>\n",
       "      <th>ADDRTYPE</th>\n",
       "      <th>INTKEY</th>\n",
       "      <th>...</th>\n",
       "      <th>ROADCOND</th>\n",
       "      <th>LIGHTCOND</th>\n",
       "      <th>PEDROWNOTGRNT</th>\n",
       "      <th>SDOTCOLNUM</th>\n",
       "      <th>SPEEDING</th>\n",
       "      <th>ST_COLCODE</th>\n",
       "      <th>ST_COLDESC</th>\n",
       "      <th>SEGLANEKEY</th>\n",
       "      <th>CROSSWALKKEY</th>\n",
       "      <th>HITPARKEDCAR</th>\n",
       "    </tr>\n",
       "  </thead>\n",
       "  <tbody>\n",
       "    <tr>\n",
       "      <th>0</th>\n",
       "      <td>2</td>\n",
       "      <td>-122.323148</td>\n",
       "      <td>47.703140</td>\n",
       "      <td>1</td>\n",
       "      <td>1307</td>\n",
       "      <td>1307</td>\n",
       "      <td>3502005</td>\n",
       "      <td>Matched</td>\n",
       "      <td>Intersection</td>\n",
       "      <td>37475.0</td>\n",
       "      <td>...</td>\n",
       "      <td>Wet</td>\n",
       "      <td>Daylight</td>\n",
       "      <td>NaN</td>\n",
       "      <td>NaN</td>\n",
       "      <td>NaN</td>\n",
       "      <td>10</td>\n",
       "      <td>Entering at angle</td>\n",
       "      <td>0</td>\n",
       "      <td>0</td>\n",
       "      <td>N</td>\n",
       "    </tr>\n",
       "    <tr>\n",
       "      <th>1</th>\n",
       "      <td>1</td>\n",
       "      <td>-122.347294</td>\n",
       "      <td>47.647172</td>\n",
       "      <td>2</td>\n",
       "      <td>52200</td>\n",
       "      <td>52200</td>\n",
       "      <td>2607959</td>\n",
       "      <td>Matched</td>\n",
       "      <td>Block</td>\n",
       "      <td>NaN</td>\n",
       "      <td>...</td>\n",
       "      <td>Wet</td>\n",
       "      <td>Dark - Street Lights On</td>\n",
       "      <td>NaN</td>\n",
       "      <td>6354039.0</td>\n",
       "      <td>NaN</td>\n",
       "      <td>11</td>\n",
       "      <td>From same direction - both going straight - bo...</td>\n",
       "      <td>0</td>\n",
       "      <td>0</td>\n",
       "      <td>N</td>\n",
       "    </tr>\n",
       "    <tr>\n",
       "      <th>2</th>\n",
       "      <td>1</td>\n",
       "      <td>-122.334540</td>\n",
       "      <td>47.607871</td>\n",
       "      <td>3</td>\n",
       "      <td>26700</td>\n",
       "      <td>26700</td>\n",
       "      <td>1482393</td>\n",
       "      <td>Matched</td>\n",
       "      <td>Block</td>\n",
       "      <td>NaN</td>\n",
       "      <td>...</td>\n",
       "      <td>Dry</td>\n",
       "      <td>Daylight</td>\n",
       "      <td>NaN</td>\n",
       "      <td>4323031.0</td>\n",
       "      <td>NaN</td>\n",
       "      <td>32</td>\n",
       "      <td>One parked--one moving</td>\n",
       "      <td>0</td>\n",
       "      <td>0</td>\n",
       "      <td>N</td>\n",
       "    </tr>\n",
       "    <tr>\n",
       "      <th>3</th>\n",
       "      <td>1</td>\n",
       "      <td>-122.334803</td>\n",
       "      <td>47.604803</td>\n",
       "      <td>4</td>\n",
       "      <td>1144</td>\n",
       "      <td>1144</td>\n",
       "      <td>3503937</td>\n",
       "      <td>Matched</td>\n",
       "      <td>Block</td>\n",
       "      <td>NaN</td>\n",
       "      <td>...</td>\n",
       "      <td>Dry</td>\n",
       "      <td>Daylight</td>\n",
       "      <td>NaN</td>\n",
       "      <td>NaN</td>\n",
       "      <td>NaN</td>\n",
       "      <td>23</td>\n",
       "      <td>From same direction - all others</td>\n",
       "      <td>0</td>\n",
       "      <td>0</td>\n",
       "      <td>N</td>\n",
       "    </tr>\n",
       "    <tr>\n",
       "      <th>4</th>\n",
       "      <td>2</td>\n",
       "      <td>-122.306426</td>\n",
       "      <td>47.545739</td>\n",
       "      <td>5</td>\n",
       "      <td>17700</td>\n",
       "      <td>17700</td>\n",
       "      <td>1807429</td>\n",
       "      <td>Matched</td>\n",
       "      <td>Intersection</td>\n",
       "      <td>34387.0</td>\n",
       "      <td>...</td>\n",
       "      <td>Wet</td>\n",
       "      <td>Daylight</td>\n",
       "      <td>NaN</td>\n",
       "      <td>4028032.0</td>\n",
       "      <td>NaN</td>\n",
       "      <td>10</td>\n",
       "      <td>Entering at angle</td>\n",
       "      <td>0</td>\n",
       "      <td>0</td>\n",
       "      <td>N</td>\n",
       "    </tr>\n",
       "  </tbody>\n",
       "</table>\n",
       "<p>5 rows × 38 columns</p>\n",
       "</div>"
      ],
      "text/plain": [
       "   SEVERITYCODE           X          Y  OBJECTID  INCKEY  COLDETKEY REPORTNO  \\\n",
       "0             2 -122.323148  47.703140         1    1307       1307  3502005   \n",
       "1             1 -122.347294  47.647172         2   52200      52200  2607959   \n",
       "2             1 -122.334540  47.607871         3   26700      26700  1482393   \n",
       "3             1 -122.334803  47.604803         4    1144       1144  3503937   \n",
       "4             2 -122.306426  47.545739         5   17700      17700  1807429   \n",
       "\n",
       "    STATUS      ADDRTYPE   INTKEY  ... ROADCOND                LIGHTCOND  \\\n",
       "0  Matched  Intersection  37475.0  ...      Wet                 Daylight   \n",
       "1  Matched         Block      NaN  ...      Wet  Dark - Street Lights On   \n",
       "2  Matched         Block      NaN  ...      Dry                 Daylight   \n",
       "3  Matched         Block      NaN  ...      Dry                 Daylight   \n",
       "4  Matched  Intersection  34387.0  ...      Wet                 Daylight   \n",
       "\n",
       "  PEDROWNOTGRNT  SDOTCOLNUM SPEEDING ST_COLCODE  \\\n",
       "0           NaN         NaN      NaN         10   \n",
       "1           NaN   6354039.0      NaN         11   \n",
       "2           NaN   4323031.0      NaN         32   \n",
       "3           NaN         NaN      NaN         23   \n",
       "4           NaN   4028032.0      NaN         10   \n",
       "\n",
       "                                          ST_COLDESC  SEGLANEKEY  \\\n",
       "0                                  Entering at angle           0   \n",
       "1  From same direction - both going straight - bo...           0   \n",
       "2                             One parked--one moving           0   \n",
       "3                   From same direction - all others           0   \n",
       "4                                  Entering at angle           0   \n",
       "\n",
       "   CROSSWALKKEY  HITPARKEDCAR  \n",
       "0             0             N  \n",
       "1             0             N  \n",
       "2             0             N  \n",
       "3             0             N  \n",
       "4             0             N  \n",
       "\n",
       "[5 rows x 38 columns]"
      ]
     },
     "execution_count": 1,
     "metadata": {},
     "output_type": "execute_result"
    }
   ],
   "source": [
    "#!pip install xlrd\n",
    "#!pip install pandas\n",
    "#!pip install matplotlib\n",
    "#!pip install sklearn\n",
    "\n",
    "import numpy as np\n",
    "import pandas as pd\n",
    "import itertools \n",
    "import matplotlib.pyplot as plt\n",
    "from matplotlib.ticker import NullFormatter  \n",
    "import matplotlib.ticker as ticker\n",
    "%matplotlib inline\n",
    "\n",
    "df = pd.read_csv(\"https://s3.us.cloud-object-storage.appdomain.cloud/cf-courses-data/CognitiveClass/DP0701EN/version-2/Data-Collisions.csv\", low_memory=False)\n",
    "df.head()"
   ]
  },
  {
   "cell_type": "code",
   "execution_count": 2,
   "metadata": {},
   "outputs": [
    {
     "name": "stdout",
     "output_type": "stream",
     "text": [
      "This data has the size of:\n",
      "(194673, 38)\n"
     ]
    }
   ],
   "source": [
    "print(\"This data has the size of:\")\n",
    "print(df.shape)"
   ]
  },
  {
   "cell_type": "markdown",
   "metadata": {},
   "source": [
    "For simplicity of the report, we shall consider the following:\n",
    "\n",
    "1. The weather conditions\n",
    "2. The time of day\n",
    "\n",
    "The data we are using shall be reclassified as df2:"
   ]
  },
  {
   "cell_type": "code",
   "execution_count": 3,
   "metadata": {},
   "outputs": [
    {
     "data": {
      "text/html": [
       "<div>\n",
       "<style scoped>\n",
       "    .dataframe tbody tr th:only-of-type {\n",
       "        vertical-align: middle;\n",
       "    }\n",
       "\n",
       "    .dataframe tbody tr th {\n",
       "        vertical-align: top;\n",
       "    }\n",
       "\n",
       "    .dataframe thead th {\n",
       "        text-align: right;\n",
       "    }\n",
       "</style>\n",
       "<table border=\"1\" class=\"dataframe\">\n",
       "  <thead>\n",
       "    <tr style=\"text-align: right;\">\n",
       "      <th></th>\n",
       "      <th>ADDRTYPE</th>\n",
       "      <th>SEVERITYCODE</th>\n",
       "      <th>COLLISIONTYPE</th>\n",
       "      <th>PERSONCOUNT</th>\n",
       "      <th>PEDCOUNT</th>\n",
       "      <th>PEDCYLCOUNT</th>\n",
       "      <th>VEHCOUNT</th>\n",
       "      <th>INCDTTM</th>\n",
       "      <th>JUNCTIONTYPE</th>\n",
       "      <th>WEATHER</th>\n",
       "      <th>ROADCOND</th>\n",
       "      <th>LIGHTCOND</th>\n",
       "    </tr>\n",
       "  </thead>\n",
       "  <tbody>\n",
       "    <tr>\n",
       "      <th>0</th>\n",
       "      <td>Intersection</td>\n",
       "      <td>2</td>\n",
       "      <td>Angles</td>\n",
       "      <td>2</td>\n",
       "      <td>0</td>\n",
       "      <td>0</td>\n",
       "      <td>2</td>\n",
       "      <td>3/27/2013 2:54:00 PM</td>\n",
       "      <td>At Intersection (intersection related)</td>\n",
       "      <td>Overcast</td>\n",
       "      <td>Wet</td>\n",
       "      <td>Daylight</td>\n",
       "    </tr>\n",
       "    <tr>\n",
       "      <th>1</th>\n",
       "      <td>Block</td>\n",
       "      <td>1</td>\n",
       "      <td>Sideswipe</td>\n",
       "      <td>2</td>\n",
       "      <td>0</td>\n",
       "      <td>0</td>\n",
       "      <td>2</td>\n",
       "      <td>12/20/2006 6:55:00 PM</td>\n",
       "      <td>Mid-Block (not related to intersection)</td>\n",
       "      <td>Raining</td>\n",
       "      <td>Wet</td>\n",
       "      <td>Dark - Street Lights On</td>\n",
       "    </tr>\n",
       "    <tr>\n",
       "      <th>2</th>\n",
       "      <td>Block</td>\n",
       "      <td>1</td>\n",
       "      <td>Parked Car</td>\n",
       "      <td>4</td>\n",
       "      <td>0</td>\n",
       "      <td>0</td>\n",
       "      <td>3</td>\n",
       "      <td>11/18/2004 10:20:00 AM</td>\n",
       "      <td>Mid-Block (not related to intersection)</td>\n",
       "      <td>Overcast</td>\n",
       "      <td>Dry</td>\n",
       "      <td>Daylight</td>\n",
       "    </tr>\n",
       "    <tr>\n",
       "      <th>3</th>\n",
       "      <td>Block</td>\n",
       "      <td>1</td>\n",
       "      <td>Other</td>\n",
       "      <td>3</td>\n",
       "      <td>0</td>\n",
       "      <td>0</td>\n",
       "      <td>3</td>\n",
       "      <td>3/29/2013 9:26:00 AM</td>\n",
       "      <td>Mid-Block (not related to intersection)</td>\n",
       "      <td>Clear</td>\n",
       "      <td>Dry</td>\n",
       "      <td>Daylight</td>\n",
       "    </tr>\n",
       "    <tr>\n",
       "      <th>4</th>\n",
       "      <td>Intersection</td>\n",
       "      <td>2</td>\n",
       "      <td>Angles</td>\n",
       "      <td>2</td>\n",
       "      <td>0</td>\n",
       "      <td>0</td>\n",
       "      <td>2</td>\n",
       "      <td>1/28/2004 8:04:00 AM</td>\n",
       "      <td>At Intersection (intersection related)</td>\n",
       "      <td>Raining</td>\n",
       "      <td>Wet</td>\n",
       "      <td>Daylight</td>\n",
       "    </tr>\n",
       "  </tbody>\n",
       "</table>\n",
       "</div>"
      ],
      "text/plain": [
       "       ADDRTYPE  SEVERITYCODE COLLISIONTYPE  PERSONCOUNT  PEDCOUNT  \\\n",
       "0  Intersection             2        Angles            2         0   \n",
       "1         Block             1     Sideswipe            2         0   \n",
       "2         Block             1    Parked Car            4         0   \n",
       "3         Block             1         Other            3         0   \n",
       "4  Intersection             2        Angles            2         0   \n",
       "\n",
       "   PEDCYLCOUNT  VEHCOUNT                 INCDTTM  \\\n",
       "0            0         2    3/27/2013 2:54:00 PM   \n",
       "1            0         2   12/20/2006 6:55:00 PM   \n",
       "2            0         3  11/18/2004 10:20:00 AM   \n",
       "3            0         3    3/29/2013 9:26:00 AM   \n",
       "4            0         2    1/28/2004 8:04:00 AM   \n",
       "\n",
       "                              JUNCTIONTYPE   WEATHER ROADCOND  \\\n",
       "0   At Intersection (intersection related)  Overcast      Wet   \n",
       "1  Mid-Block (not related to intersection)   Raining      Wet   \n",
       "2  Mid-Block (not related to intersection)  Overcast      Dry   \n",
       "3  Mid-Block (not related to intersection)     Clear      Dry   \n",
       "4   At Intersection (intersection related)   Raining      Wet   \n",
       "\n",
       "                 LIGHTCOND  \n",
       "0                 Daylight  \n",
       "1  Dark - Street Lights On  \n",
       "2                 Daylight  \n",
       "3                 Daylight  \n",
       "4                 Daylight  "
      ]
     },
     "execution_count": 3,
     "metadata": {},
     "output_type": "execute_result"
    }
   ],
   "source": [
    "df2 = df[['ADDRTYPE','SEVERITYCODE','COLLISIONTYPE','PERSONCOUNT', 'PEDCOUNT', 'PEDCYLCOUNT', 'VEHCOUNT', 'INCDTTM', 'JUNCTIONTYPE','WEATHER', 'ROADCOND', 'LIGHTCOND']];\n",
    "df2.head()"
   ]
  },
  {
   "cell_type": "code",
   "execution_count": 4,
   "metadata": {},
   "outputs": [
    {
     "data": {
      "text/plain": [
       "ADDRTYPE         object\n",
       "SEVERITYCODE      int64\n",
       "COLLISIONTYPE    object\n",
       "PERSONCOUNT       int64\n",
       "PEDCOUNT          int64\n",
       "PEDCYLCOUNT       int64\n",
       "VEHCOUNT          int64\n",
       "INCDTTM          object\n",
       "JUNCTIONTYPE     object\n",
       "WEATHER          object\n",
       "ROADCOND         object\n",
       "LIGHTCOND        object\n",
       "dtype: object"
      ]
     },
     "execution_count": 4,
     "metadata": {},
     "output_type": "execute_result"
    }
   ],
   "source": [
    "df2.dtypes"
   ]
  },
  {
   "cell_type": "code",
   "execution_count": 5,
   "metadata": {},
   "outputs": [
    {
     "name": "stdout",
     "output_type": "stream",
     "text": [
      "ADDRTYPE\n",
      "False    192747\n",
      "True       1926\n",
      "Name: ADDRTYPE, dtype: int64\n",
      "\n",
      "SEVERITYCODE\n",
      "False    194673\n",
      "Name: SEVERITYCODE, dtype: int64\n",
      "\n",
      "COLLISIONTYPE\n",
      "False    189769\n",
      "True       4904\n",
      "Name: COLLISIONTYPE, dtype: int64\n",
      "\n",
      "PERSONCOUNT\n",
      "False    194673\n",
      "Name: PERSONCOUNT, dtype: int64\n",
      "\n",
      "PEDCOUNT\n",
      "False    194673\n",
      "Name: PEDCOUNT, dtype: int64\n",
      "\n",
      "PEDCYLCOUNT\n",
      "False    194673\n",
      "Name: PEDCYLCOUNT, dtype: int64\n",
      "\n",
      "VEHCOUNT\n",
      "False    194673\n",
      "Name: VEHCOUNT, dtype: int64\n",
      "\n",
      "INCDTTM\n",
      "False    194673\n",
      "Name: INCDTTM, dtype: int64\n",
      "\n",
      "JUNCTIONTYPE\n",
      "False    188344\n",
      "True       6329\n",
      "Name: JUNCTIONTYPE, dtype: int64\n",
      "\n",
      "WEATHER\n",
      "False    189592\n",
      "True       5081\n",
      "Name: WEATHER, dtype: int64\n",
      "\n",
      "ROADCOND\n",
      "False    189661\n",
      "True       5012\n",
      "Name: ROADCOND, dtype: int64\n",
      "\n",
      "LIGHTCOND\n",
      "False    189503\n",
      "True       5170\n",
      "Name: LIGHTCOND, dtype: int64\n",
      "\n"
     ]
    }
   ],
   "source": [
    "# count missing value in each column \n",
    "missing_data = df2.isnull()\n",
    "for column in missing_data.columns.values.tolist():\n",
    "    print(column)\n",
    "    print (missing_data[column].value_counts())\n",
    "    print(\"\")"
   ]
  },
  {
   "cell_type": "markdown",
   "metadata": {},
   "source": [
    "Based on the \"count isnull() function\" above, the following six columns containing missing data:\n",
    "\n",
    "\"ADDRTYPE\": 1926 missing data\n",
    "\"COLLISIONTYPE\": 4904 missing data\n",
    "\"JUNCTIONTYPE\": 6329 missing data\n",
    "\"WEATHER\": 5081 missing data\n",
    "\"ROADCOND\": 5012 missing data\n",
    "\"LIGHTCOND\": 5170 missing data\n",
    "\n",
    "In all missing data, we set the missing as \"Unknown\""
   ]
  },
  {
   "cell_type": "code",
   "execution_count": 6,
   "metadata": {},
   "outputs": [
    {
     "name": "stderr",
     "output_type": "stream",
     "text": [
      "/Library/Frameworks/Python.framework/Versions/3.8/lib/python3.8/site-packages/pandas/core/series.py:4563: SettingWithCopyWarning: \n",
      "A value is trying to be set on a copy of a slice from a DataFrame\n",
      "\n",
      "See the caveats in the documentation: https://pandas.pydata.org/pandas-docs/stable/user_guide/indexing.html#returning-a-view-versus-a-copy\n",
      "  return super().replace(\n"
     ]
    }
   ],
   "source": [
    "df2['ADDRTYPE'].replace(np.nan, \"Unknown\", inplace=True)  \n",
    "df2['COLLISIONTYPE'].replace(np.nan, \"Unknown\", inplace=True)  \n",
    "df2['JUNCTIONTYPE'].replace(np.nan, \"Unknown\", inplace=True)  \n",
    "df2['WEATHER'].replace(np.nan, \"Unknown\", inplace=True)  \n",
    "df2['ROADCOND'].replace(np.nan, \"Unknown\", inplace=True)  \n",
    "df2['LIGHTCOND'].replace(np.nan, \"Unknown\", inplace=True)"
   ]
  },
  {
   "cell_type": "markdown",
   "metadata": {},
   "source": [
    "INCDTTM is the time of the accident, so is necessary convert that information to discrete values\n",
    "\n",
    "- Midnight = 1 morning if hour is less than 6 and hour is more than 0;\n",
    "- Morning = 2 if hour is more than or equal to 6 and hour is less than 12;\n",
    "- Afternoon = 3 if hour more than or equal to 12 and hour is less than 18;\n",
    "- Night = 4 if hour more than 24 and hour is less than or equal to 18"
   ]
  },
  {
   "cell_type": "code",
   "execution_count": 7,
   "metadata": {},
   "outputs": [
    {
     "name": "stderr",
     "output_type": "stream",
     "text": [
      "<ipython-input-7-b4c93e359c51>:6: SettingWithCopyWarning: \n",
      "A value is trying to be set on a copy of a slice from a DataFrame.\n",
      "Try using .loc[row_indexer,col_indexer] = value instead\n",
      "\n",
      "See the caveats in the documentation: https://pandas.pydata.org/pandas-docs/stable/user_guide/indexing.html#returning-a-view-versus-a-copy\n",
      "  df2['HOUR'] = data_hour2;\n"
     ]
    }
   ],
   "source": [
    "data_hour =  pd.to_datetime(df2['INCDTTM']).dt.hour \n",
    "data_hour.head()\n",
    "\n",
    "\n",
    "data_hour2 = data_hour.apply(lambda x: 1 if (x>=0 and x<6) else( 2 if (x>=6 and x<12) else( 3 if(x>=12 and x<18) else 4)))  \n",
    "df2['HOUR'] = data_hour2;"
   ]
  },
  {
   "cell_type": "code",
   "execution_count": 8,
   "metadata": {},
   "outputs": [
    {
     "data": {
      "text/html": [
       "<div>\n",
       "<style scoped>\n",
       "    .dataframe tbody tr th:only-of-type {\n",
       "        vertical-align: middle;\n",
       "    }\n",
       "\n",
       "    .dataframe tbody tr th {\n",
       "        vertical-align: top;\n",
       "    }\n",
       "\n",
       "    .dataframe thead th {\n",
       "        text-align: right;\n",
       "    }\n",
       "</style>\n",
       "<table border=\"1\" class=\"dataframe\">\n",
       "  <thead>\n",
       "    <tr style=\"text-align: right;\">\n",
       "      <th></th>\n",
       "      <th>SEVERITYCODE</th>\n",
       "      <th>PERSONCOUNT</th>\n",
       "      <th>PEDCOUNT</th>\n",
       "      <th>PEDCYLCOUNT</th>\n",
       "      <th>VEHCOUNT</th>\n",
       "      <th>Alley</th>\n",
       "      <th>Block</th>\n",
       "      <th>Intersection</th>\n",
       "      <th>Angles</th>\n",
       "      <th>Cycles</th>\n",
       "      <th>...</th>\n",
       "      <th>Snow/Slush</th>\n",
       "      <th>Standing Water</th>\n",
       "      <th>Wet</th>\n",
       "      <th>Dark - No Street Lights</th>\n",
       "      <th>Dark - Street Lights Off</th>\n",
       "      <th>Dark - Street Lights On</th>\n",
       "      <th>Dark - Unknown Lighting</th>\n",
       "      <th>Dawn</th>\n",
       "      <th>Daylight</th>\n",
       "      <th>Dusk</th>\n",
       "    </tr>\n",
       "  </thead>\n",
       "  <tbody>\n",
       "    <tr>\n",
       "      <th>0</th>\n",
       "      <td>2</td>\n",
       "      <td>2</td>\n",
       "      <td>0</td>\n",
       "      <td>0</td>\n",
       "      <td>2</td>\n",
       "      <td>0</td>\n",
       "      <td>0</td>\n",
       "      <td>1</td>\n",
       "      <td>1</td>\n",
       "      <td>0</td>\n",
       "      <td>...</td>\n",
       "      <td>0</td>\n",
       "      <td>0</td>\n",
       "      <td>1</td>\n",
       "      <td>0</td>\n",
       "      <td>0</td>\n",
       "      <td>0</td>\n",
       "      <td>0</td>\n",
       "      <td>0</td>\n",
       "      <td>1</td>\n",
       "      <td>0</td>\n",
       "    </tr>\n",
       "    <tr>\n",
       "      <th>1</th>\n",
       "      <td>1</td>\n",
       "      <td>2</td>\n",
       "      <td>0</td>\n",
       "      <td>0</td>\n",
       "      <td>2</td>\n",
       "      <td>0</td>\n",
       "      <td>1</td>\n",
       "      <td>0</td>\n",
       "      <td>0</td>\n",
       "      <td>0</td>\n",
       "      <td>...</td>\n",
       "      <td>0</td>\n",
       "      <td>0</td>\n",
       "      <td>1</td>\n",
       "      <td>0</td>\n",
       "      <td>0</td>\n",
       "      <td>1</td>\n",
       "      <td>0</td>\n",
       "      <td>0</td>\n",
       "      <td>0</td>\n",
       "      <td>0</td>\n",
       "    </tr>\n",
       "    <tr>\n",
       "      <th>2</th>\n",
       "      <td>1</td>\n",
       "      <td>4</td>\n",
       "      <td>0</td>\n",
       "      <td>0</td>\n",
       "      <td>3</td>\n",
       "      <td>0</td>\n",
       "      <td>1</td>\n",
       "      <td>0</td>\n",
       "      <td>0</td>\n",
       "      <td>0</td>\n",
       "      <td>...</td>\n",
       "      <td>0</td>\n",
       "      <td>0</td>\n",
       "      <td>0</td>\n",
       "      <td>0</td>\n",
       "      <td>0</td>\n",
       "      <td>0</td>\n",
       "      <td>0</td>\n",
       "      <td>0</td>\n",
       "      <td>1</td>\n",
       "      <td>0</td>\n",
       "    </tr>\n",
       "    <tr>\n",
       "      <th>3</th>\n",
       "      <td>1</td>\n",
       "      <td>3</td>\n",
       "      <td>0</td>\n",
       "      <td>0</td>\n",
       "      <td>3</td>\n",
       "      <td>0</td>\n",
       "      <td>1</td>\n",
       "      <td>0</td>\n",
       "      <td>0</td>\n",
       "      <td>0</td>\n",
       "      <td>...</td>\n",
       "      <td>0</td>\n",
       "      <td>0</td>\n",
       "      <td>0</td>\n",
       "      <td>0</td>\n",
       "      <td>0</td>\n",
       "      <td>0</td>\n",
       "      <td>0</td>\n",
       "      <td>0</td>\n",
       "      <td>1</td>\n",
       "      <td>0</td>\n",
       "    </tr>\n",
       "    <tr>\n",
       "      <th>4</th>\n",
       "      <td>2</td>\n",
       "      <td>2</td>\n",
       "      <td>0</td>\n",
       "      <td>0</td>\n",
       "      <td>2</td>\n",
       "      <td>0</td>\n",
       "      <td>0</td>\n",
       "      <td>1</td>\n",
       "      <td>1</td>\n",
       "      <td>0</td>\n",
       "      <td>...</td>\n",
       "      <td>0</td>\n",
       "      <td>0</td>\n",
       "      <td>1</td>\n",
       "      <td>0</td>\n",
       "      <td>0</td>\n",
       "      <td>0</td>\n",
       "      <td>0</td>\n",
       "      <td>0</td>\n",
       "      <td>1</td>\n",
       "      <td>0</td>\n",
       "    </tr>\n",
       "  </tbody>\n",
       "</table>\n",
       "<p>5 rows × 46 columns</p>\n",
       "</div>"
      ],
      "text/plain": [
       "   SEVERITYCODE  PERSONCOUNT  PEDCOUNT  PEDCYLCOUNT  VEHCOUNT  Alley  Block  \\\n",
       "0             2            2         0            0         2      0      0   \n",
       "1             1            2         0            0         2      0      1   \n",
       "2             1            4         0            0         3      0      1   \n",
       "3             1            3         0            0         3      0      1   \n",
       "4             2            2         0            0         2      0      0   \n",
       "\n",
       "   Intersection  Angles  Cycles  ...  Snow/Slush  Standing Water  Wet  \\\n",
       "0             1       1       0  ...           0               0    1   \n",
       "1             0       0       0  ...           0               0    1   \n",
       "2             0       0       0  ...           0               0    0   \n",
       "3             0       0       0  ...           0               0    0   \n",
       "4             1       1       0  ...           0               0    1   \n",
       "\n",
       "   Dark - No Street Lights  Dark - Street Lights Off  Dark - Street Lights On  \\\n",
       "0                        0                         0                        0   \n",
       "1                        0                         0                        1   \n",
       "2                        0                         0                        0   \n",
       "3                        0                         0                        0   \n",
       "4                        0                         0                        0   \n",
       "\n",
       "   Dark - Unknown Lighting  Dawn  Daylight  Dusk  \n",
       "0                        0     0         1     0  \n",
       "1                        0     0         0     0  \n",
       "2                        0     0         1     0  \n",
       "3                        0     0         1     0  \n",
       "4                        0     0         1     0  \n",
       "\n",
       "[5 rows x 46 columns]"
      ]
     },
     "execution_count": 8,
     "metadata": {},
     "output_type": "execute_result"
    }
   ],
   "source": [
    "df3 = df2[['SEVERITYCODE','PERSONCOUNT','PEDCOUNT','PEDCYLCOUNT','VEHCOUNT']];\n",
    "df3 = pd.concat([df3,pd.get_dummies(df2['ADDRTYPE'])], axis=1)\n",
    "df3 = pd.concat([df3,pd.get_dummies(df2['COLLISIONTYPE'])], axis=1) \n",
    "df3 = pd.concat([df3,pd.get_dummies(df2['JUNCTIONTYPE'])], axis=1)\n",
    "df3 = pd.concat([df3,pd.get_dummies(df2['WEATHER'])], axis=1)\n",
    "df3 = pd.concat([df3,pd.get_dummies(df2['ROADCOND'])], axis=1) \n",
    "df3 = pd.concat([df3,pd.get_dummies(df2['LIGHTCOND'])], axis=1) \n",
    "df3.drop(columns=['Other','Unknown'], inplace = True)\n",
    "df3.head()"
   ]
  },
  {
   "cell_type": "code",
   "execution_count": 9,
   "metadata": {},
   "outputs": [],
   "source": [
    "#!pip install seaborn\n",
    "#!pip install conda"
   ]
  },
  {
   "cell_type": "markdown",
   "metadata": {},
   "source": [
    "# The weather conditions\n",
    "\n",
    "Surprisingly, there are a greater number of accidents when the day is clear."
   ]
  },
  {
   "cell_type": "code",
   "execution_count": 11,
   "metadata": {},
   "outputs": [
    {
     "data": {
      "image/png": "[encoded data removed]",
      "text/plain": [
       "<Figure size 432x1296 with 11 Axes>"
      ]
     },
     "metadata": {
      "needs_background": "light"
     },
     "output_type": "display_data"
    }
   ],
   "source": [
    "import seaborn as sns\n",
    "\n",
    "bins = np.linspace(df2.VEHCOUNT.min(), df2.VEHCOUNT.max(), 10)\n",
    "g = sns.FacetGrid(df2, col=\"WEATHER\", hue=\"SEVERITYCODE\", col_wrap=2)\n",
    "g.map(plt.hist, 'VEHCOUNT', bins=bins, ec=\"k\")\n",
    "\n",
    "g.axes[-1].legend()\n",
    "plt.show()"
   ]
  },
  {
   "cell_type": "markdown",
   "metadata": {},
   "source": [
    "# The time of day\n",
    "\n",
    "In the next figure, we shall observe that a higher number of accidents was reported during the afternoon."
   ]
  },
  {
   "cell_type": "code",
   "execution_count": 12,
   "metadata": {},
   "outputs": [
    {
     "data": {
      "image/png": "[encoded data removed]",
      "text/plain": [
       "<Figure size 432x432 with 4 Axes>"
      ]
     },
     "metadata": {
      "needs_background": "light"
     },
     "output_type": "display_data"
    }
   ],
   "source": [
    "bins = np.linspace(df2.VEHCOUNT.min(), df2.VEHCOUNT.max(), 10)\n",
    "g = sns.FacetGrid(df2, col=\"HOUR\", hue=\"SEVERITYCODE\", col_wrap=2)\n",
    "g.map(plt.hist, 'VEHCOUNT', bins=bins, ec=\"k\")\n",
    "\n",
    "g.axes[-1].legend()\n",
    "plt.show()"
   ]
  },
  {
   "cell_type": "markdown",
   "metadata": {},
   "source": [
    "# Methods of Classifications\n",
    "We have compared the result using this methods.\n",
    "\n",
    "1. Linear regression\n",
    "2. Decision Tree"
   ]
  },
  {
   "cell_type": "code",
   "execution_count": 13,
   "metadata": {},
   "outputs": [
    {
     "data": {
      "text/plain": [
       "array([[-0.06223095, -1.36876932,  1.41129279,  2.14811072, -0.16915004,\n",
       "        -0.10249953, -0.27517219, -0.57196238, -0.18744809, -0.46074827,\n",
       "        -0.12417149, -0.32510694, -0.10437651,  1.44892892, -0.2408193 ,\n",
       "        -0.36412936, -0.92535062, -0.02921369, -0.01696304, -1.15340914,\n",
       "        -0.05414257,  2.45445634, -0.00506801, -0.45298634, -0.011333  ,\n",
       "        -0.02409974, -0.06841713, -1.33213439, -0.07905204, -0.01813462,\n",
       "        -0.01963186, -0.07200071, -0.02431221,  1.76085874, -0.08920831,\n",
       "        -0.07872239, -0.576075  , -0.00751719, -0.1141037 ,  0.82233559,\n",
       "        -0.17682024],\n",
       "       [-0.06223095,  0.73058329, -0.70857019, -0.46552535, -0.16915004,\n",
       "        -0.10249953, -0.27517219, -0.57196238, -0.18744809, -0.46074827,\n",
       "        -0.12417149,  3.07591099, -0.10437651, -0.69016498, -0.2408193 ,\n",
       "        -0.36412936,  1.08067145, -0.02921369, -0.01696304, -1.15340914,\n",
       "        -0.05414257, -0.4074222 , -0.00506801,  2.2075721 , -0.011333  ,\n",
       "        -0.02409974, -0.06841713, -1.33213439, -0.07905204, -0.01813462,\n",
       "        -0.01963186, -0.07200071, -0.02431221,  1.76085874, -0.08920831,\n",
       "        -0.07872239,  1.73588509, -0.00751719, -0.1141037 , -1.21604855,\n",
       "        -0.17682024],\n",
       "       [-0.06223095,  0.73058329, -0.70857019, -0.46552535, -0.16915004,\n",
       "        -0.10249953, -0.27517219,  1.74836673, -0.18744809, -0.46074827,\n",
       "        -0.12417149, -0.32510694, -0.10437651, -0.69016498, -0.2408193 ,\n",
       "        -0.36412936,  1.08067145, -0.02921369, -0.01696304, -1.15340914,\n",
       "        -0.05414257,  2.45445634, -0.00506801, -0.45298634, -0.011333  ,\n",
       "        -0.02409974, -0.06841713,  0.75067501, -0.07905204, -0.01813462,\n",
       "        -0.01963186, -0.07200071, -0.02431221, -0.56790473, -0.08920831,\n",
       "        -0.07872239, -0.576075  , -0.00751719, -0.1141037 ,  0.82233559,\n",
       "        -0.17682024],\n",
       "       [-0.06223095,  0.73058329, -0.70857019, -0.46552535, -0.16915004,\n",
       "        -0.10249953, -0.27517219, -0.57196238, -0.18744809, -0.46074827,\n",
       "        -0.12417149, -0.32510694, -0.10437651, -0.69016498, -0.2408193 ,\n",
       "        -0.36412936,  1.08067145, -0.02921369, -0.01696304,  0.86699503,\n",
       "        -0.05414257, -0.4074222 , -0.00506801, -0.45298634, -0.011333  ,\n",
       "        -0.02409974, -0.06841713,  0.75067501, -0.07905204, -0.01813462,\n",
       "        -0.01963186, -0.07200071, -0.02431221, -0.56790473, -0.08920831,\n",
       "        -0.07872239, -0.576075  , -0.00751719, -0.1141037 ,  0.82233559,\n",
       "        -0.17682024],\n",
       "       [-0.06223095, -1.36876932,  1.41129279,  2.14811072, -0.16915004,\n",
       "        -0.10249953, -0.27517219, -0.57196238, -0.18744809, -0.46074827,\n",
       "        -0.12417149, -0.32510694, -0.10437651,  1.44892892, -0.2408193 ,\n",
       "        -0.36412936, -0.92535062, -0.02921369, -0.01696304, -1.15340914,\n",
       "        -0.05414257, -0.4074222 , -0.00506801,  2.2075721 , -0.011333  ,\n",
       "        -0.02409974, -0.06841713, -1.33213439, -0.07905204, -0.01813462,\n",
       "        -0.01963186, -0.07200071, -0.02431221,  1.76085874, -0.08920831,\n",
       "        -0.07872239, -0.576075  , -0.00751719, -0.1141037 ,  0.82233559,\n",
       "        -0.17682024]])"
      ]
     },
     "execution_count": 13,
     "metadata": {},
     "output_type": "execute_result"
    }
   ],
   "source": [
    "from sklearn import preprocessing\n",
    "\n",
    "df3.columns\n",
    "X = df3[[\n",
    "       'Alley', 'Block', 'Intersection', 'Angles', 'Cycles', 'Head On',\n",
    "       'Left Turn', 'Parked Car', 'Pedestrian', 'Rear Ended', 'Right Turn',\n",
    "       'Sideswipe', 'At Intersection (but not related to intersection)',\n",
    "       'At Intersection (intersection related)', 'Driveway Junction',\n",
    "       'Mid-Block (but intersection related)',\n",
    "       'Mid-Block (not related to intersection)', 'Ramp Junction',\n",
    "       'Blowing Sand/Dirt', 'Clear', 'Fog/Smog/Smoke', 'Overcast',\n",
    "       'Partly Cloudy', 'Raining', 'Severe Crosswind',\n",
    "       'Sleet/Hail/Freezing Rain', 'Snowing', 'Dry', 'Ice', 'Oil',\n",
    "       'Sand/Mud/Dirt', 'Snow/Slush', 'Standing Water', 'Wet',\n",
    "       'Dark - No Street Lights', 'Dark - Street Lights Off',\n",
    "       'Dark - Street Lights On', 'Dark - Unknown Lighting', 'Dawn',\n",
    "       'Daylight', 'Dusk']]\n",
    "X[0:5]\n",
    "\n",
    "y = df3['SEVERITYCODE'].values\n",
    "y[0:5]\n",
    "\n",
    "X= preprocessing.StandardScaler().fit(X).transform(X)\n",
    "X[0:5]"
   ]
  },
  {
   "cell_type": "code",
   "execution_count": 14,
   "metadata": {},
   "outputs": [],
   "source": [
    "X1 = X[0:50000];\n",
    "y1 = y[0:50000];\n",
    "# split the train data\n",
    "from sklearn.model_selection import train_test_split\n",
    "X_train, X_test, y_train, y_test = train_test_split( X1, y1, test_size=0.25, random_state=4)"
   ]
  },
  {
   "cell_type": "code",
   "execution_count": 15,
   "metadata": {},
   "outputs": [],
   "source": [
    "from sklearn.linear_model import LogisticRegression\n",
    "from sklearn.metrics import confusion_matrix\n",
    "LR = LogisticRegression(C=0.01, solver='liblinear').fit(X_train,y_train)\n",
    "\n",
    "yhat = LR.predict(X_test)"
   ]
  },
  {
   "cell_type": "code",
   "execution_count": 16,
   "metadata": {},
   "outputs": [],
   "source": [
    "from sklearn.metrics import f1_score\n",
    "from sklearn.metrics import log_loss\n",
    "prec_lr = f1_score(y_test, yhat, average='weighted')"
   ]
  },
  {
   "cell_type": "code",
   "execution_count": 17,
   "metadata": {},
   "outputs": [
    {
     "data": {
      "text/plain": [
       "DecisionTreeClassifier(criterion='entropy', max_depth=4)"
      ]
     },
     "execution_count": 17,
     "metadata": {},
     "output_type": "execute_result"
    }
   ],
   "source": [
    "from sklearn.tree import DecisionTreeClassifier\n",
    "decTree = DecisionTreeClassifier(criterion=\"entropy\", max_depth = 4)\n",
    "decTree"
   ]
  },
  {
   "cell_type": "code",
   "execution_count": 18,
   "metadata": {},
   "outputs": [
    {
     "data": {
      "text/plain": [
       "DecisionTreeClassifier(criterion='entropy', max_depth=4)"
      ]
     },
     "execution_count": 18,
     "metadata": {},
     "output_type": "execute_result"
    }
   ],
   "source": [
    "decTree.fit(X_train,y_train)"
   ]
  },
  {
   "cell_type": "code",
   "execution_count": 19,
   "metadata": {},
   "outputs": [],
   "source": [
    "from sklearn.metrics import f1_score\n",
    "predTree = decTree.predict(X_test)\n",
    "prec_dt = f1_score(y_test, predTree, average='weighted')"
   ]
  },
  {
   "cell_type": "markdown",
   "metadata": {},
   "source": [
    "# Results"
   ]
  },
  {
   "cell_type": "code",
   "execution_count": 20,
   "metadata": {},
   "outputs": [
    {
     "data": {
      "text/html": [
       "<div>\n",
       "<style scoped>\n",
       "    .dataframe tbody tr th:only-of-type {\n",
       "        vertical-align: middle;\n",
       "    }\n",
       "\n",
       "    .dataframe tbody tr th {\n",
       "        vertical-align: top;\n",
       "    }\n",
       "\n",
       "    .dataframe thead th {\n",
       "        text-align: right;\n",
       "    }\n",
       "</style>\n",
       "<table border=\"1\" class=\"dataframe\">\n",
       "  <thead>\n",
       "    <tr style=\"text-align: right;\">\n",
       "      <th></th>\n",
       "      <th>linear regresion</th>\n",
       "      <th>decision tree</th>\n",
       "    </tr>\n",
       "  </thead>\n",
       "  <tbody>\n",
       "    <tr>\n",
       "      <th>0</th>\n",
       "      <td>0.674835</td>\n",
       "      <td>0.66665</td>\n",
       "    </tr>\n",
       "  </tbody>\n",
       "</table>\n",
       "</div>"
      ],
      "text/plain": [
       "   linear regresion  decision tree\n",
       "0          0.674835        0.66665"
      ]
     },
     "execution_count": 20,
     "metadata": {},
     "output_type": "execute_result"
    }
   ],
   "source": [
    "r = {'linear regresion': [prec_lr], 'decision tree': [prec_dt]}\n",
    "results = pd.DataFrame(data=r)\n",
    "results"
   ]
  },
  {
   "cell_type": "markdown",
   "metadata": {},
   "source": [
    "# Conclusion\n",
    "\n",
    "Research has shown that there is a higher probability of serious accident when ROADCOND is dry, and when the weather is overcast, raining or clear. A linear regression model is built to predict the severity of an traffic accident."
   ]
  },
  {
   "cell_type": "code",
   "execution_count": null,
   "metadata": {},
   "outputs": [],
   "source": []
  }
 ],
 "metadata": {
  "kernelspec": {
   "display_name": "Python 3",
   "language": "python",
   "name": "python3"
  },
  "language_info": {
   "codemirror_mode": {
    "name": "ipython",
    "version": 3
   },
   "file_extension": ".py",
   "mimetype": "text/x-python",
   "name": "python",
   "nbconvert_exporter": "python",
   "pygments_lexer": "ipython3",
   "version": "3.8.5"
  }
 },
 "nbformat": 4,
 "nbformat_minor": 4
}
